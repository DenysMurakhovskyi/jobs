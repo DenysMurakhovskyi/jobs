{
 "cells": [
  {
   "cell_type": "code",
   "execution_count": 16,
   "id": "cd1a8408",
   "metadata": {
    "ExecuteTime": {
     "end_time": "2022-01-27T12:18:20.864209Z",
     "start_time": "2022-01-27T12:18:20.860103Z"
    },
    "pycharm": {
     "name": "#%%\n"
    }
   },
   "outputs": [],
   "source": [
    "import pickle as pkl\n",
    "import ast"
   ]
  },
  {
   "cell_type": "code",
   "execution_count": 4,
   "id": "a9e9535d",
   "metadata": {
    "ExecuteTime": {
     "end_time": "2022-01-25T18:47:48.126992Z",
     "start_time": "2022-01-25T18:47:47.947402Z"
    },
    "pycharm": {
     "name": "#%%\n"
    }
   },
   "outputs": [],
   "source": [
    "with open(\"input_skillfeat.pkl\", 'rb') as f:\n",
    "    res = pkl.load(f)"
   ]
  },
  {
   "cell_type": "code",
   "execution_count": 6,
   "id": "51deacc0",
   "metadata": {
    "ExecuteTime": {
     "end_time": "2022-01-25T18:48:07.161358Z",
     "start_time": "2022-01-25T18:48:07.155738Z"
    },
    "pycharm": {
     "name": "#%%\n"
    }
   },
   "outputs": [
    {
     "data": {
      "text/plain": [
       "dict_keys(['n_workyear', 'n_time', 'n_skill', 'n_tempt', 'n_level', 'n_comp', 'n_city', 'maxlen_skill', 'time_index', 'salary', 'id', 'skill_set', 'comp_id', 'city_id', 'job_work_year', 'job_temptation', 'feat_comp', 'comp_ind_dict', 'feat_time_city', 'city_ind_dict', 'time_skill_feat'])"
      ]
     },
     "execution_count": 6,
     "metadata": {},
     "output_type": "execute_result"
    }
   ],
   "source": [
    "res.keys()"
   ]
  },
  {
   "cell_type": "code",
   "execution_count": 10,
   "id": "e5bd4b74",
   "metadata": {
    "ExecuteTime": {
     "end_time": "2022-01-27T12:16:46.965194Z",
     "start_time": "2022-01-27T12:16:46.532026Z"
    },
    "pycharm": {
     "name": "#%%\n"
    }
   },
   "outputs": [],
   "source": [
    "import pandas as pd"
   ]
  },
  {
   "cell_type": "code",
   "execution_count": 11,
   "id": "7a840fde",
   "metadata": {
    "ExecuteTime": {
     "end_time": "2022-01-27T12:16:53.550793Z",
     "start_time": "2022-01-27T12:16:53.522316Z"
    },
    "pycharm": {
     "name": "#%%\n"
    }
   },
   "outputs": [],
   "source": [
    "res = pd.read_csv('jd_expanded.csv')"
   ]
  },
  {
   "cell_type": "code",
   "execution_count": 17,
   "id": "837773ba",
   "metadata": {
    "ExecuteTime": {
     "end_time": "2022-01-27T12:18:30.947331Z",
     "start_time": "2022-01-27T12:18:30.824182Z"
    },
    "pycharm": {
     "name": "#%%\n"
    }
   },
   "outputs": [],
   "source": [
    "res['skills_list'] = res.skill_set.apply(lambda x: list(set([k['skill'] for k in ast.literal_eval(x)])))"
   ]
  },
  {
   "cell_type": "code",
   "execution_count": 19,
   "id": "68376ab3",
   "metadata": {
    "ExecuteTime": {
     "end_time": "2022-01-27T12:26:42.266899Z",
     "start_time": "2022-01-27T12:26:42.261212Z"
    },
    "pycharm": {
     "name": "#%%\n"
    }
   },
   "outputs": [],
   "source": [
    "terms_all = []\n",
    "\n",
    "for x in res.skills_list.values:\n",
    "    terms_all.extend(x)"
   ]
  },
  {
   "cell_type": "code",
   "execution_count": 43,
   "id": "180c76b8",
   "metadata": {
    "ExecuteTime": {
     "end_time": "2022-01-27T12:53:29.343805Z",
     "start_time": "2022-01-27T12:53:29.338572Z"
    },
    "pycharm": {
     "name": "#%%\n"
    }
   },
   "outputs": [],
   "source": [
    "from collections import Counter\n",
    "\n",
    "cnt = Counter(terms_all)\n",
    "s1 = set(cnt.keys())"
   ]
  },
  {
   "cell_type": "code",
   "execution_count": 24,
   "id": "a10cf7cd",
   "metadata": {
    "ExecuteTime": {
     "end_time": "2022-01-27T12:28:45.525997Z",
     "start_time": "2022-01-27T12:28:45.518015Z"
    },
    "pycharm": {
     "name": "#%%\n"
    }
   },
   "outputs": [],
   "source": [
    "qq = pd.read_csv('translate_wordcloud.csv')"
   ]
  },
  {
   "cell_type": "code",
   "execution_count": 33,
   "id": "83cbf4ee",
   "metadata": {
    "ExecuteTime": {
     "end_time": "2022-01-27T12:30:39.329441Z",
     "start_time": "2022-01-27T12:30:39.325235Z"
    },
    "pycharm": {
     "name": "#%%\n"
    }
   },
   "outputs": [],
   "source": [
    "s2 = set(qq.skill_name.values)\n",
    "s3 = set(qq.translate.values)"
   ]
  },
  {
   "cell_type": "code",
   "execution_count": 50,
   "id": "0b5e0077",
   "metadata": {
    "ExecuteTime": {
     "end_time": "2022-01-27T13:00:20.623824Z",
     "start_time": "2022-01-27T13:00:20.619737Z"
    },
    "pycharm": {
     "name": "#%%\n"
    }
   },
   "outputs": [],
   "source": [
    "terms_needed = s1.intersection(s2)"
   ]
  },
  {
   "cell_type": "code",
   "execution_count": 37,
   "id": "a9bd5f86",
   "metadata": {
    "ExecuteTime": {
     "end_time": "2022-01-27T12:34:20.880599Z",
     "start_time": "2022-01-27T12:34:20.874941Z"
    },
    "pycharm": {
     "name": "#%%\n"
    }
   },
   "outputs": [
    {
     "data": {
      "text/plain": [
       "1893"
      ]
     },
     "execution_count": 37,
     "metadata": {},
     "output_type": "execute_result"
    }
   ],
   "source": [
    "len(res)"
   ]
  },
  {
   "cell_type": "code",
   "execution_count": 39,
   "id": "25214460",
   "metadata": {
    "ExecuteTime": {
     "end_time": "2022-01-27T12:34:41.935649Z",
     "start_time": "2022-01-27T12:34:41.930474Z"
    },
    "pycharm": {
     "name": "#%%\n"
    }
   },
   "outputs": [
    {
     "data": {
      "text/plain": [
       "128"
      ]
     },
     "execution_count": 39,
     "metadata": {},
     "output_type": "execute_result"
    }
   ],
   "source": [
    "terms_needed"
   ]
  },
  {
   "cell_type": "code",
   "execution_count": 41,
   "id": "8d61ae9f",
   "metadata": {
    "ExecuteTime": {
     "end_time": "2022-01-27T12:34:57.428889Z",
     "start_time": "2022-01-27T12:34:57.423840Z"
    },
    "pycharm": {
     "name": "#%%\n"
    }
   },
   "outputs": [
    {
     "data": {
      "text/plain": [
       "138"
      ]
     },
     "execution_count": 41,
     "metadata": {},
     "output_type": "execute_result"
    }
   ],
   "source": [
    "len(s3)"
   ]
  },
  {
   "cell_type": "code",
   "execution_count": 56,
   "id": "cd588e98",
   "metadata": {
    "ExecuteTime": {
     "end_time": "2022-01-27T13:21:49.725572Z",
     "start_time": "2022-01-27T13:21:49.720437Z"
    },
    "pycharm": {
     "name": "#%%\n"
    }
   },
   "outputs": [],
   "source": [
    "idf = {}\n",
    "\n",
    "for k, v in cnt.items():\n",
    "    if k not in terms_needed:\n",
    "        continue\n",
    "    if v >= 5:\n",
    "        idf[k] = len(res) * 1.0 / v"
   ]
  },
  {
   "cell_type": "code",
   "execution_count": 64,
   "id": "421958c2",
   "metadata": {
    "ExecuteTime": {
     "end_time": "2022-01-27T13:28:09.607940Z",
     "start_time": "2022-01-27T13:28:09.579389Z"
    },
    "pycharm": {
     "name": "#%%\n"
    }
   },
   "outputs": [],
   "source": [
    "pd.DataFrame(idf.items(), columns=['skill_name', 'multiplier']).to_csv('skills_idf.csv', index=False)"
   ]
  },
  {
   "cell_type": "code",
   "execution_count": null,
   "id": "4fb3c64c",
   "metadata": {
    "pycharm": {
     "name": "#%%\n"
    }
   },
   "outputs": [],
   "source": []
  }
 ],
 "metadata": {
  "kernelspec": {
   "display_name": "Python 3",
   "language": "python",
   "name": "python3"
  },
  "language_info": {
   "codemirror_mode": {
    "name": "ipython",
    "version": 3
   },
   "file_extension": ".py",
   "mimetype": "text/x-python",
   "name": "python",
   "nbconvert_exporter": "python",
   "pygments_lexer": "ipython3",
   "version": "3.7.5"
  }
 },
 "nbformat": 4,
 "nbformat_minor": 5
}